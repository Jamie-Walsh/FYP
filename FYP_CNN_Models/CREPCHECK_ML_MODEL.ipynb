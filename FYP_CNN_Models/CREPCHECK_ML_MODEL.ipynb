{
 "cells": [
  {
   "cell_type": "code",
   "execution_count": 18,
   "metadata": {},
   "outputs": [],
   "source": [
    "import numpy as np\n",
    "import os\n",
    "import array\n",
    "import pickle\n",
    "from random import shuffle\n",
    "from tqdm import tqdm  # Smart progress meter\n",
    "import matplotlib.pyplot as plt\n",
    "from PIL import Image\n",
    "from keras.utils.np_utils import to_categorical\n",
    "from sklearn.model_selection import cross_val_score\n",
    "from sklearn.model_selection import KFold\n",
    "from sklearn.preprocessing import LabelEncoder\n",
    "from sklearn.pipeline import Pipeline\n",
    "from sklearn.preprocessing import LabelEncoder\n",
    " \n",
    "# Global Variables\n",
    "TRAIN_DIR = 'C:/Users/Jamie/Dropbox/College/Year 4/Final Year Project/Python/CREPCHECK/TRAIN'\n",
    "TEST_DIR = 'C:/Users/Jamie/Dropbox/College/Year 4/Final Year Project/Python/CREPCHECK/TEST'\n",
    "IMG_SIZE = 52\n",
    "NUM_CLASSES = 40"
   ]
  },
  {
   "cell_type": "code",
   "execution_count": 19,
   "metadata": {},
   "outputs": [],
   "source": [
    "def encodeLabels(lbl):\n",
    "    # sklearn's built-in function to encode the labels\n",
    "    encoder  = LabelEncoder() \n",
    "    encoder.fit(lbl)\n",
    "    encodedLabel = encoder.transform(lbl)\n",
    "    oneHotEncoded = to_categorical(encodedLabel)\n",
    "    return oneHotEncoded"
   ]
  },
  {
   "cell_type": "code",
   "execution_count": 20,
   "metadata": {},
   "outputs": [
    {
     "name": "stderr",
     "output_type": "stream",
     "text": [
      "100%|██████████████████████████████████████████████████████████████████████████████████████████| 40/40 [00:00<?, ?it/s]\n"
     ]
    }
   ],
   "source": [
    "labelsList = []\n",
    "\n",
    "for file in tqdm(os.listdir(TRAIN_DIR)):\n",
    "    # save the string before the underscore\n",
    "    label = file.split('_')[0] \n",
    "    labelsList.append(label)\n",
    "    \n",
    "encodedLabel = encodeLabels(labelsList)"
   ]
  },
  {
   "cell_type": "code",
   "execution_count": 21,
   "metadata": {},
   "outputs": [],
   "source": [
    "def CreateTrainingList():\n",
    "    i = 0\n",
    "    # create list to hold the image and label arrays for training\n",
    "    trainList = [] \n",
    "    \n",
    "    for file in tqdm(os.listdir(TRAIN_DIR)):\n",
    "        # save the string before the underscore\n",
    "        label = file.split('_')[0] \n",
    "        imgDir = os.path.join(TRAIN_DIR, label)\n",
    "        \n",
    "        for img in os.listdir(imgDir):\n",
    "            path = os.path.join(imgDir, img)\n",
    "            # Use PIL for image preprocessing\n",
    "            img = Image.open(path) # Read image syntax\n",
    "            img = img.convert('L') # Convert to grayscale\n",
    "            # Set images to the same dimensions (52x52)\n",
    "            img = img.resize((IMG_SIZE, IMG_SIZE), Image.ANTIALIAS) \n",
    "            trainList.append([np.array(img), np.array(encodedLabel[i])])\n",
    "        i = i+1\n",
    "            \n",
    "    shuffle(trainList)\n",
    "    return trainList"
   ]
  },
  {
   "cell_type": "code",
   "execution_count": 22,
   "metadata": {},
   "outputs": [],
   "source": [
    "def MakeTestList():\n",
    "    testList = []\n",
    "    i = 0 \n",
    "    for img in tqdm(os.listdir(TEST_DIR)):\n",
    "        path = os.path.join(TEST_DIR, img)\n",
    "        imgNum = img.split('_')[1]  # get the number after the underscore just to give each image a unique id\n",
    "        imgNum = imgNum.split('.')[0]\n",
    "        \n",
    "        img = Image.open(path)\n",
    "        img = img.convert('L') # Convert to grayscale\n",
    "        img = img.resize((IMG_SIZE, IMG_SIZE), Image.ANTIALIAS)\n",
    "        \n",
    "        testList.append([np.array(img), encodedLabel[i]])\n",
    "        if ((int(imgNum) % 10) == 0):\n",
    "            i = i+1\n",
    "    shuffle(testList)\n",
    "    return testList"
   ]
  },
  {
   "cell_type": "code",
   "execution_count": 23,
   "metadata": {},
   "outputs": [
    {
     "name": "stderr",
     "output_type": "stream",
     "text": [
      "100%|██████████████████████████████████████████████████████████████████████████████████| 40/40 [00:02<00:00, 15.04it/s]"
     ]
    },
    {
     "name": "stdout",
     "output_type": "stream",
     "text": [
      "[0. 0. 0. 0. 0. 0. 0. 0. 0. 0. 0. 0. 0. 0. 0. 0. 0. 1. 0. 0. 0. 0. 0. 0.\n",
      " 0. 0. 0. 0. 0. 0. 0. 0. 0. 0. 0. 0. 0. 0. 0. 0.]\n"
     ]
    },
    {
     "name": "stderr",
     "output_type": "stream",
     "text": [
      "\n"
     ]
    },
    {
     "data": {
      "image/png": "[encoded data removed]",
      "text/plain": [
       "<Figure size 432x288 with 1 Axes>"
      ]
     },
     "metadata": {
      "needs_background": "light"
     },
     "output_type": "display_data"
    }
   ],
   "source": [
    "import tensorflow as tf\n",
    "trainList = CreateTrainingList()\n",
    "plt.imshow(trainList[1][0], cmap=\"gist_gray\")\n",
    "print(trainList[1][1])\n",
    "plt.show()"
   ]
  },
  {
   "cell_type": "code",
   "execution_count": 24,
   "metadata": {},
   "outputs": [],
   "source": [
    "from keras.preprocessing.image import ImageDataGenerator\n",
    "\n",
    "X_train = []\n",
    "Y_train = []\n",
    "\n",
    "for features, label in trainList:\n",
    "    X_train.append(features)\n",
    "    Y_train.append(label)    \n",
    "    \n",
    "X_train = np.array(X_train).reshape(-1, IMG_SIZE, IMG_SIZE, 1)\n",
    "Y_train = np.array(Y_train)\n",
    "\n",
    "image_gen = ImageDataGenerator(\n",
    "    # Pixel normalization\n",
    "    rescale=1./255, \n",
    "    # Rotate images by 90 degress\n",
    "    rotation_range=90, \n",
    "    # Verticle & horizontal shifting\n",
    "    width_shift_range=.1,\n",
    "    height_shift_range=.1,\n",
    "    # Brightness Augmentation\n",
    "    brightness_range=[0.2,1.0],\n",
    "    horizontal_flip=True)\n",
    "\n",
    "# Apply the augmentation to the images from the dataset\n",
    "image_gen.fit(X, augment=True)    \n",
    "\n",
    "np.save('TrainImg_'+str(IMG_SIZE)+'_'+str(NUM_CLASSES)+'_grey.npy', X_train)\n",
    "np.save('TrainLabel_'+str(IMG_SIZE)+'_'+str(NUM_CLASSES)+'_grey.npy', Y_train)"
   ]
  },
  {
   "cell_type": "code",
   "execution_count": 8,
   "metadata": {},
   "outputs": [
    {
     "name": "stdout",
     "output_type": "stream",
     "text": [
      "Train on 2880 samples, validate on 320 samples\n",
      "Epoch 1/40\n",
      "2880/2880 [==============================] - 3s 918us/step - loss: 3.7041 - accuracy: 0.0285 - val_loss: 3.6798 - val_accuracy: 0.0719\n",
      "Epoch 2/40\n",
      "2880/2880 [==============================] - 1s 356us/step - loss: 3.6504 - accuracy: 0.0465 - val_loss: 3.5834 - val_accuracy: 0.0969\n",
      "Epoch 3/40\n",
      "2880/2880 [==============================] - 1s 410us/step - loss: 3.5007 - accuracy: 0.0920 - val_loss: 3.3303 - val_accuracy: 0.1594\n",
      "Epoch 4/40\n",
      "2880/2880 [==============================] - 1s 399us/step - loss: 3.2596 - accuracy: 0.1462 - val_loss: 3.0798 - val_accuracy: 0.2500\n",
      "Epoch 5/40\n",
      "2880/2880 [==============================] - 1s 390us/step - loss: 3.0078 - accuracy: 0.1976 - val_loss: 2.8263 - val_accuracy: 0.2531\n",
      "Epoch 6/40\n",
      "2880/2880 [==============================] - 1s 385us/step - loss: 2.7445 - accuracy: 0.2681 - val_loss: 2.6431 - val_accuracy: 0.3313\n",
      "Epoch 7/40\n",
      "2880/2880 [==============================] - 1s 399us/step - loss: 2.5805 - accuracy: 0.3132 - val_loss: 2.5212 - val_accuracy: 0.3656\n",
      "Epoch 8/40\n",
      "2880/2880 [==============================] - 1s 346us/step - loss: 2.4028 - accuracy: 0.3479 - val_loss: 2.3503 - val_accuracy: 0.4125\n",
      "Epoch 9/40\n",
      "2880/2880 [==============================] - 1s 354us/step - loss: 2.2096 - accuracy: 0.3972 - val_loss: 2.2379 - val_accuracy: 0.4125\n",
      "Epoch 10/40\n",
      "2880/2880 [==============================] - 1s 377us/step - loss: 2.0522 - accuracy: 0.4292 - val_loss: 2.1409 - val_accuracy: 0.4250\n",
      "Epoch 11/40\n",
      "2880/2880 [==============================] - 1s 388us/step - loss: 1.9267 - accuracy: 0.4653 - val_loss: 2.0904 - val_accuracy: 0.4750\n",
      "Epoch 12/40\n",
      "2880/2880 [==============================] - 1s 429us/step - loss: 1.7493 - accuracy: 0.5118 - val_loss: 2.0080 - val_accuracy: 0.4875\n",
      "Epoch 13/40\n",
      "2880/2880 [==============================] - 1s 376us/step - loss: 1.6258 - accuracy: 0.5427 - val_loss: 1.9066 - val_accuracy: 0.5031\n",
      "Epoch 14/40\n",
      "2880/2880 [==============================] - 1s 332us/step - loss: 1.4880 - accuracy: 0.5858 - val_loss: 1.8873 - val_accuracy: 0.5406\n",
      "Epoch 15/40\n",
      "2880/2880 [==============================] - 1s 342us/step - loss: 1.3571 - accuracy: 0.6149 - val_loss: 1.8489 - val_accuracy: 0.5562\n",
      "Epoch 16/40\n",
      "2880/2880 [==============================] - 1s 372us/step - loss: 1.2543 - accuracy: 0.6372 - val_loss: 1.7864 - val_accuracy: 0.5813\n",
      "Epoch 17/40\n",
      "2880/2880 [==============================] - 1s 347us/step - loss: 1.1189 - accuracy: 0.6847 - val_loss: 1.7309 - val_accuracy: 0.5781\n",
      "Epoch 18/40\n",
      "2880/2880 [==============================] - 1s 324us/step - loss: 1.0482 - accuracy: 0.7003 - val_loss: 1.7835 - val_accuracy: 0.5688\n",
      "Epoch 19/40\n",
      "2880/2880 [==============================] - 1s 346us/step - loss: 0.9720 - accuracy: 0.7247 - val_loss: 1.6703 - val_accuracy: 0.5813\n",
      "Epoch 20/40\n",
      "2880/2880 [==============================] - 1s 354us/step - loss: 0.9045 - accuracy: 0.7340 - val_loss: 1.7307 - val_accuracy: 0.5781\n",
      "Epoch 21/40\n",
      "2880/2880 [==============================] - 1s 354us/step - loss: 0.8218 - accuracy: 0.7545 - val_loss: 1.6831 - val_accuracy: 0.6187\n",
      "Epoch 22/40\n",
      "2880/2880 [==============================] - 1s 347us/step - loss: 0.7490 - accuracy: 0.7858 - val_loss: 1.7011 - val_accuracy: 0.5969\n",
      "Epoch 23/40\n",
      "2880/2880 [==============================] - 1s 375us/step - loss: 0.7006 - accuracy: 0.7993 - val_loss: 1.6329 - val_accuracy: 0.5906\n",
      "Epoch 24/40\n",
      "2880/2880 [==============================] - 1s 366us/step - loss: 0.6305 - accuracy: 0.8132 - val_loss: 1.5997 - val_accuracy: 0.6094\n",
      "Epoch 25/40\n",
      "2880/2880 [==============================] - 1s 384us/step - loss: 0.6014 - accuracy: 0.8243 - val_loss: 1.6976 - val_accuracy: 0.6156\n",
      "Epoch 26/40\n",
      "2880/2880 [==============================] - 1s 321us/step - loss: 0.5104 - accuracy: 0.8521 - val_loss: 1.7636 - val_accuracy: 0.6031\n",
      "Epoch 27/40\n",
      "2880/2880 [==============================] - 1s 387us/step - loss: 0.4865 - accuracy: 0.8576 - val_loss: 1.7472 - val_accuracy: 0.6156\n",
      "Epoch 28/40\n",
      "2880/2880 [==============================] - 1s 380us/step - loss: 0.4374 - accuracy: 0.8708 - val_loss: 1.6129 - val_accuracy: 0.6156\n",
      "Epoch 29/40\n",
      "2880/2880 [==============================] - 1s 366us/step - loss: 0.3856 - accuracy: 0.8899 - val_loss: 1.6352 - val_accuracy: 0.6344\n",
      "Epoch 30/40\n",
      "2880/2880 [==============================] - 1s 330us/step - loss: 0.3817 - accuracy: 0.8878 - val_loss: 1.5989 - val_accuracy: 0.6344\n",
      "Epoch 31/40\n",
      "2880/2880 [==============================] - 1s 386us/step - loss: 0.3387 - accuracy: 0.9000 - val_loss: 1.6853 - val_accuracy: 0.6313\n",
      "Epoch 32/40\n",
      "2880/2880 [==============================] - 1s 308us/step - loss: 0.3442 - accuracy: 0.9007 - val_loss: 1.6043 - val_accuracy: 0.6250\n",
      "Epoch 33/40\n",
      "2880/2880 [==============================] - 1s 365us/step - loss: 0.3020 - accuracy: 0.9111 - val_loss: 1.7704 - val_accuracy: 0.6125\n",
      "Epoch 34/40\n",
      "2880/2880 [==============================] - 1s 441us/step - loss: 0.2946 - accuracy: 0.9125 - val_loss: 1.6802 - val_accuracy: 0.6250\n",
      "Epoch 35/40\n",
      "2880/2880 [==============================] - 1s 369us/step - loss: 0.2692 - accuracy: 0.9233 - val_loss: 1.6961 - val_accuracy: 0.6344\n",
      "Epoch 36/40\n",
      "2880/2880 [==============================] - 1s 341us/step - loss: 0.2421 - accuracy: 0.9319 - val_loss: 1.7864 - val_accuracy: 0.6250\n",
      "Epoch 37/40\n",
      "2880/2880 [==============================] - 1s 358us/step - loss: 0.2254 - accuracy: 0.9372 - val_loss: 1.7998 - val_accuracy: 0.6250\n",
      "Epoch 38/40\n",
      "2880/2880 [==============================] - 1s 370us/step - loss: 0.2148 - accuracy: 0.9372 - val_loss: 1.6582 - val_accuracy: 0.6344\n",
      "Epoch 39/40\n",
      "2880/2880 [==============================] - 1s 374us/step - loss: 0.2088 - accuracy: 0.9403 - val_loss: 1.6827 - val_accuracy: 0.6438\n",
      "Epoch 40/40\n",
      "2880/2880 [==============================] - 1s 314us/step - loss: 0.1805 - accuracy: 0.9559 - val_loss: 1.6867 - val_accuracy: 0.6594\n"
     ]
    },
    {
     "data": {
      "text/plain": [
       "<keras.callbacks.callbacks.History at 0x15ca40cbe80>"
      ]
     },
     "execution_count": 8,
     "metadata": {},
     "output_type": "execute_result"
    }
   ],
   "source": [
    "from keras.models import Sequential\n",
    "from keras import regularizers\n",
    "from keras.layers import Dense, Conv2D, Flatten, Activation, MaxPooling2D, Dropout\n",
    "import numpy as np\n",
    "import keras\n",
    "\n",
    "# Load training data\n",
    "TrainingImg = np.load('TrainImg_'+str(IMG_SIZE)+'_'+str(NUM_CLASSES)+'_grey.npy', allow_pickle=True)\n",
    "TrainingLabel = np.load('TrainLabel_'+str(IMG_SIZE)+'_'+str(NUM_CLASSES)+'_grey.npy', allow_pickle=True)\n",
    "\n",
    "model = Sequential()\n",
    "\n",
    "model.add(Conv2D(128, kernel_size=(7, 7), activation='relu', input_shape=(IMG_SIZE,IMG_SIZE,1)))\n",
    "model.add(MaxPooling2D(pool_size=(3,3)))\n",
    "\n",
    "model.add(Conv2D(256, (7, 7), activation='relu'))\n",
    "model.add(MaxPooling2D(pool_size=(3, 3)))\n",
    "model.add(Dropout(0.25))\n",
    "\n",
    "model.add(Flatten())\n",
    "model.add(Dense(512, activation='relu'))\n",
    "model.add(Dropout(0.5))\n",
    "\n",
    "model.add(Dense(NUM_CLASSES, activation='softmax'))\n",
    "\n",
    "# Training the model\n",
    "model.compile(loss=\"categorical_crossentropy\",\n",
    "              optimizer=\"adam\",\n",
    "              metrics=['accuracy'])\n",
    "\n",
    "model.fit(TrainingImg, TrainingLabel, batch_size=240, epochs=40, validation_split=0.1)"
   ]
  },
  {
   "cell_type": "code",
   "execution_count": null,
   "metadata": {
    "scrolled": true
   },
   "outputs": [],
   "source": []
  },
  {
   "cell_type": "code",
   "execution_count": 25,
   "metadata": {},
   "outputs": [
    {
     "name": "stderr",
     "output_type": "stream",
     "text": [
      "100%|███████████████████████████████████████████████████████████████████████████████| 360/360 [00:00<00:00, 693.56it/s]\n"
     ]
    },
    {
     "data": {
      "text/plain": [
       "\"\\nplt.plot(['accuracy'], label='accuracy')\\nplt.plot(['val_accuracy'], label = 'val_accuracy')\\nplt.xlabel('Epoch')\\nplt.ylabel('Accuracy')\\nplt.ylim([0.5, 1])\\nplt.legend(loc='lower right')\\n\\ntest_loss, test_acc = model.evaluate(X,  Y, verbose=2)\""
      ]
     },
     "execution_count": 25,
     "metadata": {},
     "output_type": "execute_result"
    }
   ],
   "source": [
    "testList = MakeTestList()\n",
    "\n",
    "X_test =[]\n",
    "Y_test = []\n",
    "\n",
    "for features, label in testList:\n",
    "    X_test.append(features)\n",
    "    Y_test.append(label)\n",
    "    \n",
    "X_test = np.array(X_test).reshape(-1, IMG_SIZE, IMG_SIZE, 1)\n",
    "Y_test = np.array(Y_test)"
   ]
  },
  {
   "cell_type": "code",
   "execution_count": 24,
   "metadata": {},
   "outputs": [
    {
     "name": "stdout",
     "output_type": "stream",
     "text": [
      "[0. 0. 0. 0. 0. 0. 0. 0. 0. 0. 0. 0. 0. 0. 0. 0. 0. 0. 0. 0. 0. 0. 0. 0.\n",
      " 0. 0. 0. 0. 0. 0. 0. 0. 0. 0. 0. 0. 0. 0. 1. 0.]\n"
     ]
    },
    {
     "data": {
      "image/png": "[encoded data removed]",
      "text/plain": [
       "<Figure size 432x288 with 1 Axes>"
      ]
     },
     "metadata": {
      "needs_background": "light"
     },
     "output_type": "display_data"
    }
   ],
   "source": [
    "plt.imshow(trainList[132][0], cmap='gist_gray')\n",
    "print(trainList[132][1])\n",
    "plt.show()"
   ]
  },
  {
   "cell_type": "code",
   "execution_count": 38,
   "metadata": {},
   "outputs": [
    {
     "name": "stderr",
     "output_type": "stream",
     "text": [
      "100%|███████████████████████████████████████████████████████████████████████████████| 360/360 [00:00<00:00, 719.35it/s]\n"
     ]
    },
    {
     "data": {
      "image/png": "[encoded data removed]",
      "text/plain": [
       "<Figure size 432x288 with 9 Axes>"
      ]
     },
     "metadata": {
      "needs_background": "light"
     },
     "output_type": "display_data"
    }
   ],
   "source": [
    "testList = MakeTestList()\n",
    "fig = plt.figure()\n",
    "ShoeList = ['Adidas Gazelle', 'Adidas NMD', 'Adidas Superstar', 'Adidas Ultra Boost 20', 'Alexander Mcqueen', \n",
    "              'Asics Gel Classic', 'Chelsea Boots', 'Converse', 'Converse High Tops', 'Crocs', 'Dr Martens', \n",
    "              'Fila Disruptor 2', 'High Heels', 'Hunter Wellies', 'Loafers', 'New Balance 220', 'New Balance 574', \n",
    "              'Nike Air Jordan 1', 'Nike Air Jordan 10', 'Nike Air Max 1', 'Nike Air Max 270', 'Nike Air Max 97', \n",
    "              'Nike Air VaporMax Flyknit 3', 'Nike Air VaporMax Plus', 'Nike Airforce 1', 'Nike Airmax 120', \n",
    "              'Nike React Element 55 SE', 'Nike SB', 'Old Skool Vans', 'Puma RS-X3', 'Puma Suede', 'Reebok Classic', \n",
    "              'Reebok Phase 1', 'Timberland Boots', 'Vans Era', 'Vans Sk8 Hi', 'Vans Slip-On', \n",
    "              'Wedges', 'Yeezy 500', 'Yeezy Boost 350']\n",
    "\n",
    "for num, data in enumerate(testList[:9]):\n",
    "    img_num = data[1]\n",
    "    img_data = data[0]\n",
    "    y = fig.add_subplot(3,3,num+1)\n",
    "    orig = img_data\n",
    "    new = img_data.reshape(-1, IMG_SIZE, IMG_SIZE, 1)\n",
    "    prediction = model.predict(new)[0]\n",
    "    \n",
    "    guess = ShoeList[np.argmax(prediction)]\n",
    "    \n",
    "    y.imshow(orig, cmap=\"gist_gray\")\n",
    "    plt.title(guess)\n",
    "    y.axes.get_xaxis().set_visible(False)\n",
    "    y.axes.get_yaxis().set_visible(False)\n",
    "plt.show()"
   ]
  },
  {
   "cell_type": "code",
   "execution_count": 20,
   "metadata": {},
   "outputs": [],
   "source": [
    "with open('CREPCHECK-65acc-52px-40shoes.pickle', 'wb') as f:\n",
    "    pickle.dump(model, f)"
   ]
  },
  {
   "cell_type": "code",
   "execution_count": null,
   "metadata": {},
   "outputs": [],
   "source": []
  },
  {
   "cell_type": "code",
   "execution_count": null,
   "metadata": {},
   "outputs": [],
   "source": []
  },
  {
   "cell_type": "code",
   "execution_count": null,
   "metadata": {},
   "outputs": [],
   "source": []
  },
  {
   "cell_type": "code",
   "execution_count": null,
   "metadata": {},
   "outputs": [],
   "source": []
  }
 ],
 "metadata": {
  "kernelspec": {
   "display_name": "Python 3",
   "language": "python",
   "name": "python3"
  },
  "language_info": {
   "codemirror_mode": {
    "name": "ipython",
    "version": 3
   },
   "file_extension": ".py",
   "mimetype": "text/x-python",
   "name": "python",
   "nbconvert_exporter": "python",
   "pygments_lexer": "ipython3",
   "version": "3.7.0"
  }
 },
 "nbformat": 4,
 "nbformat_minor": 2
}
